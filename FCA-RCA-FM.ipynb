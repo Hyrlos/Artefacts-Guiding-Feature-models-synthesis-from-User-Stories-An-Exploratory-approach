{
 "cells": [
  {
   "cell_type": "code",
   "execution_count": null,
   "id": "going-ministry",
   "metadata": {},
   "outputs": [],
   "source": []
  },
  {
   "cell_type": "code",
   "execution_count": 1,
   "id": "equipped-carter",
   "metadata": {
    "ExecuteTime": {
     "end_time": "2022-10-18T10:04:22.563023Z",
     "start_time": "2022-10-18T10:04:22.217188Z"
    }
   },
   "outputs": [],
   "source": [
    "import pandas as pd\n",
    "import numpy as np\n",
    "import json\n",
    "\n",
    "pd.set_option('display.colheader_justify', 'center')\n",
    "pd.options.display.max_colwidth = 100"
   ]
  },
  {
   "cell_type": "code",
   "execution_count": 2,
   "id": "assumed-roberts",
   "metadata": {
    "ExecuteTime": {
     "end_time": "2022-10-18T10:04:25.541791Z",
     "start_time": "2022-10-18T10:04:22.565476Z"
    }
   },
   "outputs": [],
   "source": [
    "from libForClustering.data_structures import *\n",
    "from libForClustering.preprocessing import *\n",
    "from libForClustering.feature_processing import *"
   ]
  },
  {
   "cell_type": "markdown",
   "id": "textile-korean",
   "metadata": {},
   "source": [
    "# utils"
   ]
  },
  {
   "cell_type": "code",
   "execution_count": 3,
   "id": "incident-dinner",
   "metadata": {
    "ExecuteTime": {
     "end_time": "2022-10-18T10:04:25.565328Z",
     "start_time": "2022-10-18T10:04:25.544074Z"
    },
    "scrolled": false
   },
   "outputs": [],
   "source": [
    "def printFormatdfCxtFToRCFT(df, title):\n",
    "    print(\"FormalContext \" + title)\n",
    "    print(\"||\")\n",
    "    for index, row in df.iterrows():\n",
    "        print(\"|\" + str(row[0]) + \"|\")\n",
    "    print()\n",
    "\n",
    "\n",
    "def printFormatdfCxtRToRCFT(df, title, source, target):\n",
    "    print(\"RelationalContext \" + title)\n",
    "    columns = list(df.columns.values)\n",
    "    print(\"source \" + source)\n",
    "    print(\"target \" + target)\n",
    "    print(\"scaling exist\")\n",
    "    strCol = \"||\"\n",
    "    for column in columns:\n",
    "        strCol += str(column) + \"|\"\n",
    "    print(strCol)\n",
    "    for index, row in df.iterrows():\n",
    "        strtmp = \"|\" + str(index) + \"|\"\n",
    "        for cell in row:\n",
    "            strtmp += str(cell) + \"|\"\n",
    "        print(strtmp)\n",
    "    print()\n",
    "\n",
    "\n",
    "def retFormatdfCxtFToRCFT(df, title):\n",
    "    strRet = \"\"\n",
    "    strRet += (\"FormalContext \" + title) + \"\\n\"\n",
    "    strRet += (\"||\") + \"\\n\"\n",
    "    for index, row in df.iterrows():\n",
    "        strRet += (\"|\" + str(row[0]) + \"|\") + \"\\n\"\n",
    "    strRet += \"\\n\"\n",
    "    return strRet\n",
    "\n",
    "\n",
    "def retFormatdfCxtRToRCFT(df, title, source, target):\n",
    "    strRet = \"\"\n",
    "    strRet += (\"RelationalContext \" + title) + \"\\n\"\n",
    "    columns = list(df.columns.values)\n",
    "    strRet += (\"source \" + source) + \"\\n\"\n",
    "    strRet += (\"target \" + target) + \"\\n\"\n",
    "    strRet += (\"scaling exist\") + \"\\n\"\n",
    "    strCol = \"||\"\n",
    "    for column in columns:\n",
    "        strCol += str(column) + \"|\"\n",
    "    strRet += (strCol) + \"\\n\"\n",
    "    for index, row in df.iterrows():\n",
    "        strtmp = \"|\" + str(index) + \"|\"\n",
    "        for cell in row:\n",
    "            strtmp += str(cell) + \"|\"\n",
    "        strRet += (strtmp) + \"\\n\"\n",
    "    strRet += \"\\n\"\n",
    "    return strRet\n",
    "\n",
    "\n",
    "def retFormatdfCxtMatrixed(df, title):\n",
    "    strRet = \"\"\n",
    "    strRet += (\"FormalContext \" + title) + \"\\n\"\n",
    "    columns = list(df.columns.values)\n",
    "    strCol = \"||\"\n",
    "    for column in columns:\n",
    "        strCol += str(column) + \"|\"\n",
    "    strRet += (strCol) + \"\\n\"\n",
    "    for index, row in df.iterrows():\n",
    "        strtmp = \"|\" + str(index) + \"|\"\n",
    "        for cell in row:\n",
    "            strtmp += str(cell) + \"|\"\n",
    "        strRet += (strtmp) + \"\\n\"\n",
    "    strRet += \"\\n\"\n",
    "    return strRet\n",
    "\n",
    "\n",
    "def union(lst1, lst2):\n",
    "    final_list = list(set(lst1) | set(lst2))\n",
    "    return final_list\n",
    "\n",
    "\n",
    "# data is a dataframe of array\n",
    "def ctxRelPerCtxForms(df_ctxFormX, data):\n",
    "\n",
    "    tabRet = []\n",
    "    # On parcours toutes les lignes des données\n",
    "    for indexData, rowData in data.iterrows():\n",
    "        tabContains = []\n",
    "        # On parcours toutes les lignes du contexte formel\n",
    "        for indexCtx, rowCtx in df_ctxFormX.iterrows():\n",
    "            # On compare si l'élément est présent\n",
    "            if rowCtx[0] in rowData[0]:\n",
    "                tabContains.append(\"x\")\n",
    "            else:\n",
    "                tabContains.append(\"\")\n",
    "        tabRet.append(tabContains)\n",
    "    return tabRet"
   ]
  },
  {
   "cell_type": "markdown",
   "id": "identified-latin",
   "metadata": {},
   "source": [
    "## Produits"
   ]
  },
  {
   "cell_type": "code",
   "execution_count": 4,
   "id": "planned-criminal",
   "metadata": {
    "ExecuteTime": {
     "end_time": "2022-10-18T10:04:25.587556Z",
     "start_time": "2022-10-18T10:04:25.567751Z"
    },
    "scrolled": true
   },
   "outputs": [],
   "source": [
    "def uniformRoles(roles):\n",
    "    # Uniformisation des roles\n",
    "    roles = list(map(lambda x: x.replace('admin', 'administrateur'), roles))\n",
    "    roles = list(\n",
    "        map(lambda x: x.replace('administrateuristrateur', 'administrateur'),\n",
    "            roles))\n",
    "    roles = list(map(lambda x: x.replace('Presto', ''), roles))\n",
    "    roles = list(map(lambda x: x.replace('PinkLady', ''), roles))\n",
    "    roles = list(map(lambda x: x.replace('producteurdepomme', 'producteur'),\n",
    "                     roles))\n",
    "    roles = list(map(lambda x: x.replace('utilisateurde', 'utilisateur'), roles))\n",
    "    roles = list(map(lambda x: x.replace('testeurde', 'testeur'), roles))\n",
    "    roles = list(\n",
    "        map(lambda x: x.replace('utilisateurVigneouAmandes', 'utilisateur'),\n",
    "            roles))\n",
    "    roles = list(\n",
    "        map(lambda x: x.replace('utilisateurAmandes', 'utilisateur'), roles))\n",
    "    roles = list(\n",
    "        map(lambda x: x.replace('utilisateurVigneouAmandes', 'utilisateur'),\n",
    "            roles))\n",
    "    roles = list(\n",
    "        map(lambda x: x.replace('utilisateurCropwin//Banana', 'utilisateur'),\n",
    "            roles))\n",
    "    roles = list(\n",
    "        map(lambda x: x.replace('responsableCercoban', 'responsable'), roles))\n",
    "    roles = list(\n",
    "        map(\n",
    "            lambda x: x.replace(\n",
    "                'administrateurjepeuxaffecter(désaffecter)unesaisonàunutilisateur.',\n",
    "                'administrateur'), roles))\n",
    "    roles = list(\n",
    "        map(\n",
    "            lambda x: x.replace(\n",
    "                \"administrateurjepeuxgérerlessaisonsdel'application(CRUD)\",\n",
    "                'administrateur'), roles))\n",
    "    rolesUndupli = roles\n",
    "    # Simplification des roles\n",
    "    for role in roles:\n",
    "        if (\"administrateur\" in role):\n",
    "            rolesUndupli = list(\n",
    "                map(lambda x: x.replace(role, 'administrateur'), roles))\n",
    "        if (\"utilisateur\" in role):\n",
    "            rolesUndupli = list(\n",
    "                map(lambda x: x.replace(role, 'utilisateur'), roles))\n",
    "        if (\"technicien\" in role):\n",
    "            rolesUndupli = list(map(lambda x: x.replace(role, 'technicien'),\n",
    "                                    roles))\n",
    "    return rolesUndupli"
   ]
  },
  {
   "cell_type": "markdown",
   "id": "ordinary-serbia",
   "metadata": {},
   "source": [
    "# Clusturing"
   ]
  },
  {
   "cell_type": "code",
   "execution_count": 5,
   "id": "objective-representative",
   "metadata": {
    "ExecuteTime": {
     "end_time": "2022-10-18T10:04:25.605420Z",
     "start_time": "2022-10-18T10:04:25.591434Z"
    }
   },
   "outputs": [],
   "source": [
    "def remplacingRole(sentence):\n",
    "    sentence = sentence.lower()\n",
    "    sentence = sentence.replace(\"As \", \"\")\n",
    "    sentence = sentence.replace(\"as \", \"\")\n",
    "    sentence = sentence.replace(\"a \", \"\")\n",
    "    sentence = sentence.replace(\"an \", \"\")\n",
    "    sentence = sentence.replace(\"( \", \"\")\n",
    "    sentence = sentence.replace(\") \", \"\")\n",
    "    sentence = sentence.replace(\"'\", \"\")\n",
    "    sentence = sentence.replace(\",\", \"\")\n",
    "    sentence = sentence.replace(\" admin\", \"administrator\")\n",
    "    sentence = sentence.replace(\" \", \"\")\n",
    "    return sentence\n",
    "\n",
    "def remplacingFeature(sentence):\n",
    "    sentence = sentence.replace(\"'\", \"\")\n",
    "    sentence = sentence.replace(\",\", \"\")\n",
    "    sentence = sentence.replace(\"(\", \" \")\n",
    "    sentence = sentence.replace(\")\", \" \")\n",
    "    sentence = sentence.replace(\"  \", \" \")\n",
    "    return sentence"
   ]
  },
  {
   "cell_type": "code",
   "execution_count": 6,
   "id": "mobile-minister",
   "metadata": {
    "ExecuteTime": {
     "end_time": "2022-10-18T10:04:25.625598Z",
     "start_time": "2022-10-18T10:04:25.613733Z"
    }
   },
   "outputs": [],
   "source": [
    "f = open(\"data/datasetEN.txt\", \"r\", encoding=\"UTF-8\")\n",
    "data = f.read()\n",
    "f.close()\n",
    "documents = Documents()\n",
    "data = data.split('\\n')"
   ]
  },
  {
   "cell_type": "code",
   "execution_count": 7,
   "id": "synthetic-construction",
   "metadata": {
    "ExecuteTime": {
     "end_time": "2022-10-18T10:04:25.646026Z",
     "start_time": "2022-10-18T10:04:25.629235Z"
    }
   },
   "outputs": [
    {
     "data": {
      "text/plain": [
       "['As a farmer, I can refresh the predicted weather',\n",
       " 'As a farmer, I can CRUD plots',\n",
       " 'As a farmer, I can edit the parameters of a plot (current season)',\n",
       " 'As a farmer, I can sort my plots in the list',\n",
       " 'As a farmer, I can filter my plots in the list',\n",
       " 'As a farmer, I can export observation data for a plot',\n",
       " 'As a farmer, I know when my plots will be in danger',\n",
       " 'As a farmer, I can manage my irrigations and recommendations in my favorite unit',\n",
       " 'As a farmer, I can choose my preferred irrigation unit in my user-settings',\n",
       " 'As a farmer, I can view my irrigation recommendations in my favorite unit',\n",
       " 'As a admin, I can CRUD a farmer',\n",
       " 'As a admin, I can relaunch all failed simulation',\n",
       " '']"
      ]
     },
     "execution_count": 7,
     "metadata": {},
     "output_type": "execute_result"
    }
   ],
   "source": [
    "data"
   ]
  },
  {
   "cell_type": "code",
   "execution_count": 8,
   "id": "norwegian-shannon",
   "metadata": {
    "ExecuteTime": {
     "end_time": "2022-10-18T10:04:25.658099Z",
     "start_time": "2022-10-18T10:04:25.649531Z"
    }
   },
   "outputs": [],
   "source": [
    "roleData = []\n",
    "featureData = []\n",
    "for us in data:\n",
    "    usSplit = us.split(\"I\")\n",
    "    roleData.append(remplacingRole(usSplit[0]))\n",
    "    featureData.append(remplacingFeature((\"\".join(usSplit[1:]))[1:]))\n",
    "del roleData[-1]\n",
    "roleData = uniformRoles(roleData)\n",
    "del featureData[-1]\n",
    "dfRoleFeatureSuperF = pd.DataFrame(data={\"Role\": roleData})"
   ]
  },
  {
   "cell_type": "code",
   "execution_count": 9,
   "id": "continent-method",
   "metadata": {
    "ExecuteTime": {
     "end_time": "2022-10-18T10:04:25.672451Z",
     "start_time": "2022-10-18T10:04:25.662605Z"
    }
   },
   "outputs": [],
   "source": [
    "try:\n",
    "    documents = Documents()\n",
    "    data = featureData\n",
    "    try:\n",
    "        while(True):\n",
    "            data.remove('')\n",
    "    except ValueError:\n",
    "        pass\n",
    "    for d in data:\n",
    "        documents.add_document(Document(d))\n",
    "except:\n",
    "    print(\"ERROR - ReadFromFileError (\"+filename+\")\")"
   ]
  },
  {
   "cell_type": "code",
   "execution_count": 10,
   "id": "fuzzy-hundred",
   "metadata": {
    "ExecuteTime": {
     "end_time": "2022-10-18T10:06:51.654852Z",
     "start_time": "2022-10-18T10:04:25.675514Z"
    }
   },
   "outputs": [
    {
     "name": "stdout",
     "output_type": "stream",
     "text": [
      "Loading model...\n",
      "Processing synsets...\n",
      "[====================]\n"
     ]
    }
   ],
   "source": [
    "dataset = Dataset()\n",
    "preprocessing = Preprocessing()\n",
    "tagged_documents = preprocessing.prepare_parts_of_user_stories(\n",
    "    documents, False, False, True, False, True, True, \"en\")"
   ]
  },
  {
   "cell_type": "code",
   "execution_count": 11,
   "id": "original-chuck",
   "metadata": {
    "ExecuteTime": {
     "end_time": "2022-10-18T10:06:51.666599Z",
     "start_time": "2022-10-18T10:06:51.656740Z"
    }
   },
   "outputs": [],
   "source": [
    "featureDataList = []\n",
    "for doc in tagged_documents:\n",
    "    featureDataList.append(\" \".join(doc[0]))\n",
    "dfRoleFeatureSuperF[\"Feature\"] = featureDataList"
   ]
  },
  {
   "cell_type": "code",
   "execution_count": 12,
   "id": "humanitarian-engineer",
   "metadata": {
    "ExecuteTime": {
     "end_time": "2022-10-18T10:09:13.413180Z",
     "start_time": "2022-10-18T10:06:51.668987Z"
    }
   },
   "outputs": [],
   "source": [
    "featureProcessing = FeatureProcessing()\n",
    "# dict = map id mot\n",
    "# doc_term_matrices = idMot par document\n",
    "dictionary, doc_term_matrices = featureProcessing.generate_dict_dtm(documents)"
   ]
  },
  {
   "cell_type": "code",
   "execution_count": 13,
   "id": "colonial-reference",
   "metadata": {
    "ExecuteTime": {
     "end_time": "2022-10-18T10:09:13.418665Z",
     "start_time": "2022-10-18T10:09:13.414789Z"
    }
   },
   "outputs": [],
   "source": [
    "# get initial features\n",
    "#initial_features = featureProcessing.initial_features(documents)\n",
    "#print(type(initial_features[0]))\n",
    "\n",
    "initial_features = []\n",
    "for doc in documents:\n",
    "    initial_features.append(Feature(doc))"
   ]
  },
  {
   "cell_type": "code",
   "execution_count": 14,
   "id": "manufactured-austria",
   "metadata": {
    "ExecuteTime": {
     "end_time": "2022-10-18T10:09:13.428981Z",
     "start_time": "2022-10-18T10:09:13.420711Z"
    }
   },
   "outputs": [],
   "source": [
    "# tranform into following lists (feature names, feature keywords, feature tags)\n",
    "feature_list = []\n",
    "for feature, tokens, tags, dtm in zip(initial_features,\n",
    "                                      documents.tokenized_documents,\n",
    "                                      tagged_documents, doc_term_matrices):\n",
    "    feature_list.append((feature, tokens, tags, dtm))\n",
    "grouped_lists = (initial_features, documents.tokenized_documents,\n",
    "                 tagged_documents, doc_term_matrices)\n",
    "\n",
    "# grouped_lists = initial_features, documents.tokenized_documents, tagged_documents, doc_term_matrices"
   ]
  },
  {
   "cell_type": "code",
   "execution_count": 15,
   "id": "surface-chess",
   "metadata": {
    "ExecuteTime": {
     "end_time": "2022-10-18T10:09:14.571550Z",
     "start_time": "2022-10-18T10:09:13.431153Z"
    }
   },
   "outputs": [
    {
     "data": {
      "text/plain": [
       "6"
      ]
     },
     "execution_count": 15,
     "metadata": {},
     "output_type": "execute_result"
    }
   ],
   "source": [
    "vectors = featureProcessing.get_vectors_doc2vec(grouped_lists[2],\n",
    "                                                grouped_lists[1])\n",
    "\n",
    "c = Cluster()\n",
    "num_clusters = c.get_optimal_elbow_num(vectors, 2, len(vectors), 1)\n",
    "num_clusters"
   ]
  },
  {
   "cell_type": "code",
   "execution_count": 16,
   "id": "noted-grass",
   "metadata": {
    "ExecuteTime": {
     "end_time": "2022-10-18T10:09:15.330692Z",
     "start_time": "2022-10-18T10:09:14.573377Z"
    }
   },
   "outputs": [],
   "source": [
    "num_repeats = 200\n",
    "max_iter = 2000\n",
    "clusterer = Cluster()\n",
    "vectors = featureProcessing.get_vectors_doc2vec(grouped_lists[2],\n",
    "                                                grouped_lists[1])\n",
    "clusterer.skl_kmeans(num_clusters, num_repeats, max_iter)\n",
    "clusters = clusterer.skl_kmeans_fit_and_cluster_vectors(vectors)\n",
    "sorted_clusters = clusterer._sort_features(clusters, feature_list,\n",
    "                                           num_clusters)"
   ]
  },
  {
   "cell_type": "code",
   "execution_count": 17,
   "id": "acute-calculator",
   "metadata": {
    "ExecuteTime": {
     "end_time": "2022-10-18T10:09:15.345301Z",
     "start_time": "2022-10-18T10:09:15.333589Z"
    },
    "scrolled": false
   },
   "outputs": [
    {
     "name": "stdout",
     "output_type": "stream",
     "text": [
      "6\n",
      "CLUSTER  1\n",
      "can refresh the predicted weather\n",
      "know when my plots will be in danger\n",
      "\n",
      "CLUSTER  2\n",
      "can export observation data for a plot\n",
      "can crud a farmer\n",
      "\n",
      "CLUSTER  3\n",
      "can filter my plots in the list\n",
      "\n",
      "CLUSTER  4\n",
      "can sort my plots in the list\n",
      "can manage my irrigations and recommendations in my favorite unit\n",
      "can relaunch all failed simulation\n",
      "\n",
      "CLUSTER  5\n",
      "can choose my preferred irrigation unit in my user settings\n",
      "can view my irrigation recommendations in my favorite unit\n",
      "\n",
      "CLUSTER  6\n",
      "can crud plots\n",
      "can edit the parameters of a plot current season\n",
      "\n"
     ]
    }
   ],
   "source": [
    "print(len(sorted_clusters))\n",
    "count = 0\n",
    "for i in sorted_clusters:\n",
    "    count += 1\n",
    "    print(\"CLUSTER \", count)\n",
    "    for u in i:\n",
    "        #print(u,\"\\n\",type(u[0]), type(u[1]),type(u[2]),type(u[3]),\"\\n\")\n",
    "        print(\" \".join(u[2][0]))\n",
    "    print()"
   ]
  },
  {
   "cell_type": "code",
   "execution_count": 18,
   "id": "chronic-excellence",
   "metadata": {
    "ExecuteTime": {
     "end_time": "2022-10-18T10:09:15.381023Z",
     "start_time": "2022-10-18T10:09:15.347524Z"
    },
    "scrolled": true
   },
   "outputs": [
    {
     "name": "stdout",
     "output_type": "stream",
     "text": [
      "CLUSER  0\n",
      "CLUSER  1\n",
      "CLUSER  2\n",
      "CLUSER  3\n",
      "CLUSER  4\n",
      "CLUSER  5\n"
     ]
    }
   ],
   "source": [
    "dfRoleFeatureSuperF[\"superF\"] = \"\"\n",
    "\n",
    "count = -1\n",
    "for i in sorted_clusters:\n",
    "    count += 1\n",
    "    print(\"CLUSER \", count)\n",
    "    for u in i:\n",
    "        idValue = dfRoleFeatureSuperF.index[dfRoleFeatureSuperF['Feature'] == \" \".join(u[2][0])].tolist()\n",
    "        dfRoleFeatureSuperF.at[idValue, \"superF\"] = str(count)\n",
    "        "
   ]
  },
  {
   "cell_type": "code",
   "execution_count": 19,
   "id": "voluntary-disabled",
   "metadata": {
    "ExecuteTime": {
     "end_time": "2022-10-18T10:09:15.424095Z",
     "start_time": "2022-10-18T10:09:15.384285Z"
    }
   },
   "outputs": [
    {
     "data": {
      "text/html": [
       "<div>\n",
       "<style scoped>\n",
       "    .dataframe tbody tr th:only-of-type {\n",
       "        vertical-align: middle;\n",
       "    }\n",
       "\n",
       "    .dataframe tbody tr th {\n",
       "        vertical-align: top;\n",
       "    }\n",
       "\n",
       "    .dataframe thead th {\n",
       "        text-align: right;\n",
       "    }\n",
       "</style>\n",
       "<table border=\"1\" class=\"dataframe\">\n",
       "  <thead>\n",
       "    <tr style=\"text-align: center;\">\n",
       "      <th></th>\n",
       "      <th>Role</th>\n",
       "      <th>Feature</th>\n",
       "      <th>superF</th>\n",
       "    </tr>\n",
       "  </thead>\n",
       "  <tbody>\n",
       "    <tr>\n",
       "      <th>0</th>\n",
       "      <td>farmer</td>\n",
       "      <td>can refresh the predicted weather</td>\n",
       "      <td>0</td>\n",
       "    </tr>\n",
       "    <tr>\n",
       "      <th>6</th>\n",
       "      <td>farmer</td>\n",
       "      <td>know when my plots will be in danger</td>\n",
       "      <td>0</td>\n",
       "    </tr>\n",
       "    <tr>\n",
       "      <th>5</th>\n",
       "      <td>farmer</td>\n",
       "      <td>can export observation data for a plot</td>\n",
       "      <td>1</td>\n",
       "    </tr>\n",
       "    <tr>\n",
       "      <th>10</th>\n",
       "      <td>administrateur</td>\n",
       "      <td>can crud a farmer</td>\n",
       "      <td>1</td>\n",
       "    </tr>\n",
       "    <tr>\n",
       "      <th>4</th>\n",
       "      <td>farmer</td>\n",
       "      <td>can filter my plots in the list</td>\n",
       "      <td>2</td>\n",
       "    </tr>\n",
       "    <tr>\n",
       "      <th>3</th>\n",
       "      <td>farmer</td>\n",
       "      <td>can sort my plots in the list</td>\n",
       "      <td>3</td>\n",
       "    </tr>\n",
       "    <tr>\n",
       "      <th>7</th>\n",
       "      <td>farmer</td>\n",
       "      <td>can manage my irrigations and recommendations in my favorite unit</td>\n",
       "      <td>3</td>\n",
       "    </tr>\n",
       "    <tr>\n",
       "      <th>11</th>\n",
       "      <td>administrateur</td>\n",
       "      <td>can relaunch all failed simulation</td>\n",
       "      <td>3</td>\n",
       "    </tr>\n",
       "    <tr>\n",
       "      <th>8</th>\n",
       "      <td>farmer</td>\n",
       "      <td>can choose my preferred irrigation unit in my user settings</td>\n",
       "      <td>4</td>\n",
       "    </tr>\n",
       "    <tr>\n",
       "      <th>9</th>\n",
       "      <td>farmer</td>\n",
       "      <td>can view my irrigation recommendations in my favorite unit</td>\n",
       "      <td>4</td>\n",
       "    </tr>\n",
       "    <tr>\n",
       "      <th>1</th>\n",
       "      <td>farmer</td>\n",
       "      <td>can crud plots</td>\n",
       "      <td>5</td>\n",
       "    </tr>\n",
       "    <tr>\n",
       "      <th>2</th>\n",
       "      <td>farmer</td>\n",
       "      <td>can edit the parameters of a plot current season</td>\n",
       "      <td>5</td>\n",
       "    </tr>\n",
       "  </tbody>\n",
       "</table>\n",
       "</div>"
      ],
      "text/plain": [
       "         Role       \\\n",
       "0           farmer   \n",
       "6           farmer   \n",
       "5           farmer   \n",
       "10  administrateur   \n",
       "4           farmer   \n",
       "3           farmer   \n",
       "7           farmer   \n",
       "11  administrateur   \n",
       "8           farmer   \n",
       "9           farmer   \n",
       "1           farmer   \n",
       "2           farmer   \n",
       "\n",
       "                                Feature                               superF  \n",
       "0                                   can refresh the predicted weather    0    \n",
       "6                                know when my plots will be in danger    0    \n",
       "5                              can export observation data for a plot    1    \n",
       "10                                                  can crud a farmer    1    \n",
       "4                                     can filter my plots in the list    2    \n",
       "3                                       can sort my plots in the list    3    \n",
       "7   can manage my irrigations and recommendations in my favorite unit    3    \n",
       "11                                 can relaunch all failed simulation    3    \n",
       "8         can choose my preferred irrigation unit in my user settings    4    \n",
       "9          can view my irrigation recommendations in my favorite unit    4    \n",
       "1                                                      can crud plots    5    \n",
       "2                    can edit the parameters of a plot current season    5    "
      ]
     },
     "execution_count": 19,
     "metadata": {},
     "output_type": "execute_result"
    }
   ],
   "source": [
    "dfRoleFeatureSuperF.sort_values(by=['superF'])\n"
   ]
  },
  {
   "cell_type": "code",
   "execution_count": 20,
   "id": "expanded-intake",
   "metadata": {
    "ExecuteTime": {
     "end_time": "2022-10-18T10:09:15.449061Z",
     "start_time": "2022-10-18T10:09:15.430122Z"
    }
   },
   "outputs": [
    {
     "data": {
      "text/html": [
       "<div>\n",
       "<style scoped>\n",
       "    .dataframe tbody tr th:only-of-type {\n",
       "        vertical-align: middle;\n",
       "    }\n",
       "\n",
       "    .dataframe tbody tr th {\n",
       "        vertical-align: top;\n",
       "    }\n",
       "\n",
       "    .dataframe thead th {\n",
       "        text-align: right;\n",
       "    }\n",
       "</style>\n",
       "<table border=\"1\" class=\"dataframe\">\n",
       "  <thead>\n",
       "    <tr style=\"text-align: center;\">\n",
       "      <th></th>\n",
       "      <th>Role</th>\n",
       "      <th>Feature</th>\n",
       "      <th>superF</th>\n",
       "    </tr>\n",
       "  </thead>\n",
       "  <tbody>\n",
       "    <tr>\n",
       "      <th>0</th>\n",
       "      <td>farmer</td>\n",
       "      <td>can refresh the predicted weather</td>\n",
       "      <td>0</td>\n",
       "    </tr>\n",
       "    <tr>\n",
       "      <th>1</th>\n",
       "      <td>farmer</td>\n",
       "      <td>can crud plots</td>\n",
       "      <td>5</td>\n",
       "    </tr>\n",
       "    <tr>\n",
       "      <th>2</th>\n",
       "      <td>farmer</td>\n",
       "      <td>can edit the parameters of a plot current season</td>\n",
       "      <td>5</td>\n",
       "    </tr>\n",
       "    <tr>\n",
       "      <th>3</th>\n",
       "      <td>farmer</td>\n",
       "      <td>can sort my plots in the list</td>\n",
       "      <td>3</td>\n",
       "    </tr>\n",
       "    <tr>\n",
       "      <th>4</th>\n",
       "      <td>farmer</td>\n",
       "      <td>can filter my plots in the list</td>\n",
       "      <td>2</td>\n",
       "    </tr>\n",
       "    <tr>\n",
       "      <th>5</th>\n",
       "      <td>farmer</td>\n",
       "      <td>can export observation data for a plot</td>\n",
       "      <td>1</td>\n",
       "    </tr>\n",
       "    <tr>\n",
       "      <th>6</th>\n",
       "      <td>farmer</td>\n",
       "      <td>know when my plots will be in danger</td>\n",
       "      <td>0</td>\n",
       "    </tr>\n",
       "    <tr>\n",
       "      <th>7</th>\n",
       "      <td>farmer</td>\n",
       "      <td>can manage my irrigations and recommendations in my favorite unit</td>\n",
       "      <td>3</td>\n",
       "    </tr>\n",
       "    <tr>\n",
       "      <th>8</th>\n",
       "      <td>farmer</td>\n",
       "      <td>can choose my preferred irrigation unit in my user settings</td>\n",
       "      <td>4</td>\n",
       "    </tr>\n",
       "    <tr>\n",
       "      <th>9</th>\n",
       "      <td>farmer</td>\n",
       "      <td>can view my irrigation recommendations in my favorite unit</td>\n",
       "      <td>4</td>\n",
       "    </tr>\n",
       "    <tr>\n",
       "      <th>10</th>\n",
       "      <td>administrateur</td>\n",
       "      <td>can crud a farmer</td>\n",
       "      <td>1</td>\n",
       "    </tr>\n",
       "    <tr>\n",
       "      <th>11</th>\n",
       "      <td>administrateur</td>\n",
       "      <td>can relaunch all failed simulation</td>\n",
       "      <td>3</td>\n",
       "    </tr>\n",
       "  </tbody>\n",
       "</table>\n",
       "</div>"
      ],
      "text/plain": [
       "         Role       \\\n",
       "0           farmer   \n",
       "1           farmer   \n",
       "2           farmer   \n",
       "3           farmer   \n",
       "4           farmer   \n",
       "5           farmer   \n",
       "6           farmer   \n",
       "7           farmer   \n",
       "8           farmer   \n",
       "9           farmer   \n",
       "10  administrateur   \n",
       "11  administrateur   \n",
       "\n",
       "                                Feature                               superF  \n",
       "0                                   can refresh the predicted weather    0    \n",
       "1                                                      can crud plots    5    \n",
       "2                    can edit the parameters of a plot current season    5    \n",
       "3                                       can sort my plots in the list    3    \n",
       "4                                     can filter my plots in the list    2    \n",
       "5                              can export observation data for a plot    1    \n",
       "6                                know when my plots will be in danger    0    \n",
       "7   can manage my irrigations and recommendations in my favorite unit    3    \n",
       "8         can choose my preferred irrigation unit in my user settings    4    \n",
       "9          can view my irrigation recommendations in my favorite unit    4    \n",
       "10                                                  can crud a farmer    1    \n",
       "11                                 can relaunch all failed simulation    3    "
      ]
     },
     "execution_count": 20,
     "metadata": {},
     "output_type": "execute_result"
    }
   ],
   "source": [
    "dfRoleFeatureSuperF"
   ]
  },
  {
   "cell_type": "markdown",
   "id": "scheduled-indiana",
   "metadata": {},
   "source": [
    "# FCA Multiple"
   ]
  },
  {
   "cell_type": "code",
   "execution_count": 21,
   "id": "accomplished-singapore",
   "metadata": {
    "ExecuteTime": {
     "end_time": "2022-10-18T10:09:15.462048Z",
     "start_time": "2022-10-18T10:09:15.455117Z"
    }
   },
   "outputs": [
    {
     "data": {
      "text/plain": [
       "0                                     can refresh the predicted weather\n",
       "1                                                        can crud plots\n",
       "2                      can edit the parameters of a plot current season\n",
       "3                                         can sort my plots in the list\n",
       "4                                       can filter my plots in the list\n",
       "5                                can export observation data for a plot\n",
       "6                                  know when my plots will be in danger\n",
       "7     can manage my irrigations and recommendations in my favorite unit\n",
       "8           can choose my preferred irrigation unit in my user settings\n",
       "9            can view my irrigation recommendations in my favorite unit\n",
       "10                                                    can crud a farmer\n",
       "11                                   can relaunch all failed simulation\n",
       "Name: Feature, dtype: object"
      ]
     },
     "execution_count": 21,
     "metadata": {},
     "output_type": "execute_result"
    }
   ],
   "source": [
    "dfRoleFeatureSuperF[\"Feature\"]"
   ]
  },
  {
   "cell_type": "code",
   "execution_count": null,
   "id": "satellite-seating",
   "metadata": {
    "ExecuteTime": {
     "end_time": "2022-10-17T20:27:24.236251Z",
     "start_time": "2022-10-17T20:27:24.177719Z"
    }
   },
   "outputs": [],
   "source": []
  },
  {
   "cell_type": "markdown",
   "id": "offshore-relief",
   "metadata": {},
   "source": [
    "## product2Feature"
   ]
  },
  {
   "cell_type": "code",
   "execution_count": 22,
   "id": "upper-lightweight",
   "metadata": {
    "ExecuteTime": {
     "end_time": "2022-10-18T10:09:15.492694Z",
     "start_time": "2022-10-18T10:09:15.468429Z"
    }
   },
   "outputs": [
    {
     "data": {
      "text/html": [
       "<div>\n",
       "<style scoped>\n",
       "    .dataframe tbody tr th:only-of-type {\n",
       "        vertical-align: middle;\n",
       "    }\n",
       "\n",
       "    .dataframe tbody tr th {\n",
       "        vertical-align: top;\n",
       "    }\n",
       "\n",
       "    .dataframe thead th {\n",
       "        text-align: right;\n",
       "    }\n",
       "</style>\n",
       "<table border=\"1\" class=\"dataframe\">\n",
       "  <thead>\n",
       "    <tr style=\"text-align: center;\">\n",
       "      <th></th>\n",
       "      <th>Produit</th>\n",
       "    </tr>\n",
       "  </thead>\n",
       "  <tbody>\n",
       "    <tr>\n",
       "      <th>0</th>\n",
       "      <td>Vine</td>\n",
       "    </tr>\n",
       "    <tr>\n",
       "      <th>1</th>\n",
       "      <td>Orchard</td>\n",
       "    </tr>\n",
       "    <tr>\n",
       "      <th>2</th>\n",
       "      <td>Almond</td>\n",
       "    </tr>\n",
       "  </tbody>\n",
       "</table>\n",
       "</div>"
      ],
      "text/plain": [
       "  Produit \n",
       "0     Vine\n",
       "1  Orchard\n",
       "2   Almond"
      ]
     },
     "execution_count": 22,
     "metadata": {},
     "output_type": "execute_result"
    }
   ],
   "source": [
    "df_produits = pd.DataFrame(data={\"Produit\":['Vine', 'Orchard', 'Almond']})\n",
    "df_produits"
   ]
  },
  {
   "cell_type": "code",
   "execution_count": 25,
   "id": "together-partner",
   "metadata": {
    "ExecuteTime": {
     "end_time": "2022-10-18T10:09:58.419922Z",
     "start_time": "2022-10-18T10:09:58.402142Z"
    }
   },
   "outputs": [],
   "source": [
    "products = [\n",
    "[\"Vine\",\"Orchard\",\"Almond\"],\n",
    "[\"Vine\",\"Orchard\"],\n",
    "[\"Vine\",\"Orchard\",\"Almond\"],\n",
    "[\"Vine\",\"Orchard\"],\n",
    "[\"Orchard\"],\n",
    "[\"Orchard\"],\n",
    "[\"Vine\"],\n",
    "[\"Vine\",\"Orchard\"],\n",
    "[\"Almond\"],\n",
    "[\"Vine\"],\n",
    "[\"Vine\",\"Almond\"],\n",
    "[\"Vine\",\"Orchard\"],\n",
    "[\"Vine\",\"Orchard\",\"Almond\"]\n",
    "]"
   ]
  },
  {
   "cell_type": "code",
   "execution_count": 26,
   "id": "wrapped-dealer",
   "metadata": {
    "ExecuteTime": {
     "end_time": "2022-10-18T10:09:58.449412Z",
     "start_time": "2022-10-18T10:09:58.432696Z"
    }
   },
   "outputs": [],
   "source": [
    "listproduits = products\n",
    "listproduitsperUS = []\n",
    "for elem in listproduits:\n",
    "    listTmp = []\n",
    "    for prod in elem:\n",
    "        listTmp.append(prod)\n",
    "    listproduitsperUS.append(listTmp)\n",
    "\n",
    "df_produitsPerUS = pd.DataFrame(data={\"listproduitsperUS\":listproduitsperUS})"
   ]
  },
  {
   "cell_type": "code",
   "execution_count": 27,
   "id": "handy-groove",
   "metadata": {
    "ExecuteTime": {
     "end_time": "2022-10-18T10:09:58.475539Z",
     "start_time": "2022-10-18T10:09:58.456008Z"
    }
   },
   "outputs": [
    {
     "data": {
      "text/html": [
       "<div>\n",
       "<style scoped>\n",
       "    .dataframe tbody tr th:only-of-type {\n",
       "        vertical-align: middle;\n",
       "    }\n",
       "\n",
       "    .dataframe tbody tr th {\n",
       "        vertical-align: top;\n",
       "    }\n",
       "\n",
       "    .dataframe thead th {\n",
       "        text-align: right;\n",
       "    }\n",
       "</style>\n",
       "<table border=\"1\" class=\"dataframe\">\n",
       "  <thead>\n",
       "    <tr style=\"text-align: center;\">\n",
       "      <th></th>\n",
       "      <th>listproduitsperUS</th>\n",
       "    </tr>\n",
       "  </thead>\n",
       "  <tbody>\n",
       "    <tr>\n",
       "      <th>0</th>\n",
       "      <td>[Vine, Orchard, Almond]</td>\n",
       "    </tr>\n",
       "    <tr>\n",
       "      <th>1</th>\n",
       "      <td>[Vine, Orchard]</td>\n",
       "    </tr>\n",
       "    <tr>\n",
       "      <th>2</th>\n",
       "      <td>[Vine, Orchard, Almond]</td>\n",
       "    </tr>\n",
       "    <tr>\n",
       "      <th>3</th>\n",
       "      <td>[Vine, Orchard]</td>\n",
       "    </tr>\n",
       "    <tr>\n",
       "      <th>4</th>\n",
       "      <td>[Orchard]</td>\n",
       "    </tr>\n",
       "    <tr>\n",
       "      <th>5</th>\n",
       "      <td>[Orchard]</td>\n",
       "    </tr>\n",
       "    <tr>\n",
       "      <th>6</th>\n",
       "      <td>[Vine]</td>\n",
       "    </tr>\n",
       "    <tr>\n",
       "      <th>7</th>\n",
       "      <td>[Vine, Orchard]</td>\n",
       "    </tr>\n",
       "    <tr>\n",
       "      <th>8</th>\n",
       "      <td>[Almond]</td>\n",
       "    </tr>\n",
       "    <tr>\n",
       "      <th>9</th>\n",
       "      <td>[Vine]</td>\n",
       "    </tr>\n",
       "    <tr>\n",
       "      <th>10</th>\n",
       "      <td>[Vine, Almond]</td>\n",
       "    </tr>\n",
       "    <tr>\n",
       "      <th>11</th>\n",
       "      <td>[Vine, Orchard]</td>\n",
       "    </tr>\n",
       "    <tr>\n",
       "      <th>12</th>\n",
       "      <td>[Vine, Orchard, Almond]</td>\n",
       "    </tr>\n",
       "  </tbody>\n",
       "</table>\n",
       "</div>"
      ],
      "text/plain": [
       "      listproduitsperUS    \n",
       "0   [Vine, Orchard, Almond]\n",
       "1           [Vine, Orchard]\n",
       "2   [Vine, Orchard, Almond]\n",
       "3           [Vine, Orchard]\n",
       "4                 [Orchard]\n",
       "5                 [Orchard]\n",
       "6                    [Vine]\n",
       "7           [Vine, Orchard]\n",
       "8                  [Almond]\n",
       "9                    [Vine]\n",
       "10           [Vine, Almond]\n",
       "11          [Vine, Orchard]\n",
       "12  [Vine, Orchard, Almond]"
      ]
     },
     "execution_count": 27,
     "metadata": {},
     "output_type": "execute_result"
    }
   ],
   "source": [
    "df_produitsPerUS"
   ]
  },
  {
   "cell_type": "code",
   "execution_count": 28,
   "id": "racial-scientist",
   "metadata": {
    "ExecuteTime": {
     "end_time": "2022-10-18T10:09:58.495756Z",
     "start_time": "2022-10-18T10:09:58.478583Z"
    }
   },
   "outputs": [
    {
     "data": {
      "text/plain": [
       "0       Vine\n",
       "1     Almond\n",
       "2    Orchard\n",
       "Name: Produit, dtype: object"
      ]
     },
     "execution_count": 28,
     "metadata": {},
     "output_type": "execute_result"
    }
   ],
   "source": [
    "pd.read_csv(\"data/ctxF_produits.csv\").drop(\"Unnamed: 0\", axis=1)[\"Produit\"]"
   ]
  },
  {
   "cell_type": "code",
   "execution_count": 29,
   "id": "human-pilot",
   "metadata": {
    "ExecuteTime": {
     "end_time": "2022-10-18T10:09:58.505972Z",
     "start_time": "2022-10-18T10:09:58.497982Z"
    }
   },
   "outputs": [],
   "source": [
    "#df_product2UFeature[\"Produits\"] = []\n",
    "dfRoleFeatureSuperF[\"Produits\"] = df_produitsPerUS"
   ]
  },
  {
   "cell_type": "code",
   "execution_count": 30,
   "id": "based-edward",
   "metadata": {
    "ExecuteTime": {
     "end_time": "2022-10-18T10:09:58.524676Z",
     "start_time": "2022-10-18T10:09:58.508045Z"
    }
   },
   "outputs": [],
   "source": [
    "product2Feature = my_array = np.array(ctxRelPerCtxForms(df_produits, df_produitsPerUS))"
   ]
  },
  {
   "cell_type": "code",
   "execution_count": 31,
   "id": "discrete-modern",
   "metadata": {
    "ExecuteTime": {
     "end_time": "2022-10-18T10:09:58.539596Z",
     "start_time": "2022-10-18T10:09:58.528133Z"
    }
   },
   "outputs": [
    {
     "name": "stdout",
     "output_type": "stream",
     "text": [
      "13   12\n"
     ]
    }
   ],
   "source": [
    "print(len(product2Feature), \" \", len(dfRoleFeatureSuperF[\"Feature\"]))"
   ]
  },
  {
   "cell_type": "code",
   "execution_count": 32,
   "id": "suitable-marsh",
   "metadata": {
    "ExecuteTime": {
     "end_time": "2022-10-18T10:09:58.604167Z",
     "start_time": "2022-10-18T10:09:58.543292Z"
    },
    "scrolled": false
   },
   "outputs": [
    {
     "ename": "ValueError",
     "evalue": "Shape of passed values is (13, 3), indices imply (12, 3)",
     "output_type": "error",
     "traceback": [
      "\u001b[0;31m---------------------------------------------------------------------------\u001b[0m",
      "\u001b[0;31mValueError\u001b[0m                                Traceback (most recent call last)",
      "\u001b[0;32m~/Bureau/simulateurs/virtualEnv/simuEnv/lib/python3.8/site-packages/pandas/core/internals/managers.py\u001b[0m in \u001b[0;36mcreate_block_manager_from_blocks\u001b[0;34m(blocks, axes)\u001b[0m\n\u001b[1;32m   1679\u001b[0m \u001b[0;34m\u001b[0m\u001b[0m\n\u001b[0;32m-> 1680\u001b[0;31m         \u001b[0mmgr\u001b[0m \u001b[0;34m=\u001b[0m \u001b[0mBlockManager\u001b[0m\u001b[0;34m(\u001b[0m\u001b[0mblocks\u001b[0m\u001b[0;34m,\u001b[0m \u001b[0maxes\u001b[0m\u001b[0;34m)\u001b[0m\u001b[0;34m\u001b[0m\u001b[0;34m\u001b[0m\u001b[0m\n\u001b[0m\u001b[1;32m   1681\u001b[0m         \u001b[0mmgr\u001b[0m\u001b[0;34m.\u001b[0m\u001b[0m_consolidate_inplace\u001b[0m\u001b[0;34m(\u001b[0m\u001b[0;34m)\u001b[0m\u001b[0;34m\u001b[0m\u001b[0;34m\u001b[0m\u001b[0m\n",
      "\u001b[0;32m~/Bureau/simulateurs/virtualEnv/simuEnv/lib/python3.8/site-packages/pandas/core/internals/managers.py\u001b[0m in \u001b[0;36m__init__\u001b[0;34m(self, blocks, axes, do_integrity_check)\u001b[0m\n\u001b[1;32m    142\u001b[0m         \u001b[0;32mif\u001b[0m \u001b[0mdo_integrity_check\u001b[0m\u001b[0;34m:\u001b[0m\u001b[0;34m\u001b[0m\u001b[0;34m\u001b[0m\u001b[0m\n\u001b[0;32m--> 143\u001b[0;31m             \u001b[0mself\u001b[0m\u001b[0;34m.\u001b[0m\u001b[0m_verify_integrity\u001b[0m\u001b[0;34m(\u001b[0m\u001b[0;34m)\u001b[0m\u001b[0;34m\u001b[0m\u001b[0;34m\u001b[0m\u001b[0m\n\u001b[0m\u001b[1;32m    144\u001b[0m \u001b[0;34m\u001b[0m\u001b[0m\n",
      "\u001b[0;32m~/Bureau/simulateurs/virtualEnv/simuEnv/lib/python3.8/site-packages/pandas/core/internals/managers.py\u001b[0m in \u001b[0;36m_verify_integrity\u001b[0;34m(self)\u001b[0m\n\u001b[1;32m    322\u001b[0m             \u001b[0;32mif\u001b[0m \u001b[0mblock\u001b[0m\u001b[0;34m.\u001b[0m\u001b[0mshape\u001b[0m\u001b[0;34m[\u001b[0m\u001b[0;36m1\u001b[0m\u001b[0;34m:\u001b[0m\u001b[0;34m]\u001b[0m \u001b[0;34m!=\u001b[0m \u001b[0mmgr_shape\u001b[0m\u001b[0;34m[\u001b[0m\u001b[0;36m1\u001b[0m\u001b[0;34m:\u001b[0m\u001b[0;34m]\u001b[0m\u001b[0;34m:\u001b[0m\u001b[0;34m\u001b[0m\u001b[0;34m\u001b[0m\u001b[0m\n\u001b[0;32m--> 323\u001b[0;31m                 \u001b[0;32mraise\u001b[0m \u001b[0mconstruction_error\u001b[0m\u001b[0;34m(\u001b[0m\u001b[0mtot_items\u001b[0m\u001b[0;34m,\u001b[0m \u001b[0mblock\u001b[0m\u001b[0;34m.\u001b[0m\u001b[0mshape\u001b[0m\u001b[0;34m[\u001b[0m\u001b[0;36m1\u001b[0m\u001b[0;34m:\u001b[0m\u001b[0;34m]\u001b[0m\u001b[0;34m,\u001b[0m \u001b[0mself\u001b[0m\u001b[0;34m.\u001b[0m\u001b[0maxes\u001b[0m\u001b[0;34m)\u001b[0m\u001b[0;34m\u001b[0m\u001b[0;34m\u001b[0m\u001b[0m\n\u001b[0m\u001b[1;32m    324\u001b[0m         \u001b[0;32mif\u001b[0m \u001b[0mlen\u001b[0m\u001b[0;34m(\u001b[0m\u001b[0mself\u001b[0m\u001b[0;34m.\u001b[0m\u001b[0mitems\u001b[0m\u001b[0;34m)\u001b[0m \u001b[0;34m!=\u001b[0m \u001b[0mtot_items\u001b[0m\u001b[0;34m:\u001b[0m\u001b[0;34m\u001b[0m\u001b[0;34m\u001b[0m\u001b[0m\n",
      "\u001b[0;31mValueError\u001b[0m: Shape of passed values is (13, 3), indices imply (12, 3)",
      "\nDuring handling of the above exception, another exception occurred:\n",
      "\u001b[0;31mValueError\u001b[0m                                Traceback (most recent call last)",
      "\u001b[0;32m<ipython-input-32-14963ce70eca>\u001b[0m in \u001b[0;36m<module>\u001b[0;34m\u001b[0m\n\u001b[1;32m      1\u001b[0m \u001b[0;31m# df_produits x df_idUS\u001b[0m\u001b[0;34m\u001b[0m\u001b[0;34m\u001b[0m\u001b[0;34m\u001b[0m\u001b[0m\n\u001b[0;32m----> 2\u001b[0;31m df_product2UFeature = pd.DataFrame(my_array,\n\u001b[0m\u001b[1;32m      3\u001b[0m                                     \u001b[0mcolumns\u001b[0m\u001b[0;34m=\u001b[0m\u001b[0mdf_produits\u001b[0m\u001b[0;34m[\u001b[0m\u001b[0;34m\"Produit\"\u001b[0m\u001b[0;34m]\u001b[0m\u001b[0;34m,\u001b[0m\u001b[0;34m\u001b[0m\u001b[0;34m\u001b[0m\u001b[0m\n\u001b[1;32m      4\u001b[0m                                     index=dfRoleFeatureSuperF[\"Feature\"])\n\u001b[1;32m      5\u001b[0m \u001b[0mdf_product2UFeature\u001b[0m\u001b[0;34m\u001b[0m\u001b[0;34m\u001b[0m\u001b[0m\n",
      "\u001b[0;32m~/Bureau/simulateurs/virtualEnv/simuEnv/lib/python3.8/site-packages/pandas/core/frame.py\u001b[0m in \u001b[0;36m__init__\u001b[0;34m(self, data, index, columns, dtype, copy)\u001b[0m\n\u001b[1;32m    556\u001b[0m                 \u001b[0mmgr\u001b[0m \u001b[0;34m=\u001b[0m \u001b[0minit_dict\u001b[0m\u001b[0;34m(\u001b[0m\u001b[0;34m{\u001b[0m\u001b[0mdata\u001b[0m\u001b[0;34m.\u001b[0m\u001b[0mname\u001b[0m\u001b[0;34m:\u001b[0m \u001b[0mdata\u001b[0m\u001b[0;34m}\u001b[0m\u001b[0;34m,\u001b[0m \u001b[0mindex\u001b[0m\u001b[0;34m,\u001b[0m \u001b[0mcolumns\u001b[0m\u001b[0;34m,\u001b[0m \u001b[0mdtype\u001b[0m\u001b[0;34m=\u001b[0m\u001b[0mdtype\u001b[0m\u001b[0;34m)\u001b[0m\u001b[0;34m\u001b[0m\u001b[0;34m\u001b[0m\u001b[0m\n\u001b[1;32m    557\u001b[0m             \u001b[0;32melse\u001b[0m\u001b[0;34m:\u001b[0m\u001b[0;34m\u001b[0m\u001b[0;34m\u001b[0m\u001b[0m\n\u001b[0;32m--> 558\u001b[0;31m                 \u001b[0mmgr\u001b[0m \u001b[0;34m=\u001b[0m \u001b[0minit_ndarray\u001b[0m\u001b[0;34m(\u001b[0m\u001b[0mdata\u001b[0m\u001b[0;34m,\u001b[0m \u001b[0mindex\u001b[0m\u001b[0;34m,\u001b[0m \u001b[0mcolumns\u001b[0m\u001b[0;34m,\u001b[0m \u001b[0mdtype\u001b[0m\u001b[0;34m=\u001b[0m\u001b[0mdtype\u001b[0m\u001b[0;34m,\u001b[0m \u001b[0mcopy\u001b[0m\u001b[0;34m=\u001b[0m\u001b[0mcopy\u001b[0m\u001b[0;34m)\u001b[0m\u001b[0;34m\u001b[0m\u001b[0;34m\u001b[0m\u001b[0m\n\u001b[0m\u001b[1;32m    559\u001b[0m \u001b[0;34m\u001b[0m\u001b[0m\n\u001b[1;32m    560\u001b[0m         \u001b[0;31m# For data is list-like, or Iterable (will consume into list)\u001b[0m\u001b[0;34m\u001b[0m\u001b[0;34m\u001b[0m\u001b[0;34m\u001b[0m\u001b[0m\n",
      "\u001b[0;32m~/Bureau/simulateurs/virtualEnv/simuEnv/lib/python3.8/site-packages/pandas/core/internals/construction.py\u001b[0m in \u001b[0;36minit_ndarray\u001b[0;34m(values, index, columns, dtype, copy)\u001b[0m\n\u001b[1;32m    236\u001b[0m         \u001b[0mblock_values\u001b[0m \u001b[0;34m=\u001b[0m \u001b[0;34m[\u001b[0m\u001b[0mvalues\u001b[0m\u001b[0;34m]\u001b[0m\u001b[0;34m\u001b[0m\u001b[0;34m\u001b[0m\u001b[0m\n\u001b[1;32m    237\u001b[0m \u001b[0;34m\u001b[0m\u001b[0m\n\u001b[0;32m--> 238\u001b[0;31m     \u001b[0;32mreturn\u001b[0m \u001b[0mcreate_block_manager_from_blocks\u001b[0m\u001b[0;34m(\u001b[0m\u001b[0mblock_values\u001b[0m\u001b[0;34m,\u001b[0m \u001b[0;34m[\u001b[0m\u001b[0mcolumns\u001b[0m\u001b[0;34m,\u001b[0m \u001b[0mindex\u001b[0m\u001b[0;34m]\u001b[0m\u001b[0;34m)\u001b[0m\u001b[0;34m\u001b[0m\u001b[0;34m\u001b[0m\u001b[0m\n\u001b[0m\u001b[1;32m    239\u001b[0m \u001b[0;34m\u001b[0m\u001b[0m\n\u001b[1;32m    240\u001b[0m \u001b[0;34m\u001b[0m\u001b[0m\n",
      "\u001b[0;32m~/Bureau/simulateurs/virtualEnv/simuEnv/lib/python3.8/site-packages/pandas/core/internals/managers.py\u001b[0m in \u001b[0;36mcreate_block_manager_from_blocks\u001b[0;34m(blocks, axes)\u001b[0m\n\u001b[1;32m   1685\u001b[0m         \u001b[0mblocks\u001b[0m \u001b[0;34m=\u001b[0m \u001b[0;34m[\u001b[0m\u001b[0mgetattr\u001b[0m\u001b[0;34m(\u001b[0m\u001b[0mb\u001b[0m\u001b[0;34m,\u001b[0m \u001b[0;34m\"values\"\u001b[0m\u001b[0;34m,\u001b[0m \u001b[0mb\u001b[0m\u001b[0;34m)\u001b[0m \u001b[0;32mfor\u001b[0m \u001b[0mb\u001b[0m \u001b[0;32min\u001b[0m \u001b[0mblocks\u001b[0m\u001b[0;34m]\u001b[0m\u001b[0;34m\u001b[0m\u001b[0;34m\u001b[0m\u001b[0m\n\u001b[1;32m   1686\u001b[0m         \u001b[0mtot_items\u001b[0m \u001b[0;34m=\u001b[0m \u001b[0msum\u001b[0m\u001b[0;34m(\u001b[0m\u001b[0mb\u001b[0m\u001b[0;34m.\u001b[0m\u001b[0mshape\u001b[0m\u001b[0;34m[\u001b[0m\u001b[0;36m0\u001b[0m\u001b[0;34m]\u001b[0m \u001b[0;32mfor\u001b[0m \u001b[0mb\u001b[0m \u001b[0;32min\u001b[0m \u001b[0mblocks\u001b[0m\u001b[0;34m)\u001b[0m\u001b[0;34m\u001b[0m\u001b[0;34m\u001b[0m\u001b[0m\n\u001b[0;32m-> 1687\u001b[0;31m         \u001b[0;32mraise\u001b[0m \u001b[0mconstruction_error\u001b[0m\u001b[0;34m(\u001b[0m\u001b[0mtot_items\u001b[0m\u001b[0;34m,\u001b[0m \u001b[0mblocks\u001b[0m\u001b[0;34m[\u001b[0m\u001b[0;36m0\u001b[0m\u001b[0;34m]\u001b[0m\u001b[0;34m.\u001b[0m\u001b[0mshape\u001b[0m\u001b[0;34m[\u001b[0m\u001b[0;36m1\u001b[0m\u001b[0;34m:\u001b[0m\u001b[0;34m]\u001b[0m\u001b[0;34m,\u001b[0m \u001b[0maxes\u001b[0m\u001b[0;34m,\u001b[0m \u001b[0me\u001b[0m\u001b[0;34m)\u001b[0m\u001b[0;34m\u001b[0m\u001b[0;34m\u001b[0m\u001b[0m\n\u001b[0m\u001b[1;32m   1688\u001b[0m \u001b[0;34m\u001b[0m\u001b[0m\n\u001b[1;32m   1689\u001b[0m \u001b[0;34m\u001b[0m\u001b[0m\n",
      "\u001b[0;31mValueError\u001b[0m: Shape of passed values is (13, 3), indices imply (12, 3)"
     ]
    }
   ],
   "source": [
    "# df_produits x df_idUS\n",
    "df_product2UFeature = pd.DataFrame(my_array,\n",
    "                                    columns=df_produits[\"Produit\"],\n",
    "                                    index=dfRoleFeatureSuperF[\"Feature\"])\n",
    "df_product2UFeature"
   ]
  },
  {
   "cell_type": "code",
   "execution_count": null,
   "id": "frequent-vacuum",
   "metadata": {
    "ExecuteTime": {
     "end_time": "2022-10-18T10:09:58.606307Z",
     "start_time": "2022-10-18T10:09:58.465Z"
    },
    "scrolled": true
   },
   "outputs": [],
   "source": [
    "dfRoleFeatureSuperF"
   ]
  },
  {
   "cell_type": "code",
   "execution_count": null,
   "id": "typical-connectivity",
   "metadata": {
    "ExecuteTime": {
     "end_time": "2022-10-18T10:09:58.607340Z",
     "start_time": "2022-10-18T10:09:58.468Z"
    }
   },
   "outputs": [],
   "source": [
    "df_product2UFeature.index"
   ]
  },
  {
   "cell_type": "code",
   "execution_count": null,
   "id": "preliminary-ladder",
   "metadata": {
    "ExecuteTime": {
     "end_time": "2022-10-18T10:09:58.608405Z",
     "start_time": "2022-10-18T10:09:58.473Z"
    },
    "scrolled": true
   },
   "outputs": [],
   "source": [
    "def toFC(df, column):\n",
    "    noDuplicate = df[column].drop_duplicates().tolist()\n",
    "    df_tmp = pd.DataFrame(data={column: list(dict.fromkeys(noDuplicate))})\n",
    "    df_complet = pd.DataFrame(data={column: df[column].tolist()})\n",
    "    data = np.array(ctxRelPerCtxForms(df_tmp, df_complet))\n",
    "    return pd.DataFrame(data, columns=noDuplicate)\n",
    "    \n",
    "df_superF = toFC(dfRoleFeatureSuperF, \"superF\").set_index(df_product2UFeature.index)\n",
    "df_Role = toFC(dfRoleFeatureSuperF, \"Role\").set_index(df_product2UFeature.index)\n",
    "dfcombined = pd.concat([df_Role, df_product2UFeature, df_superF], axis=1)#.drop(['Produits'], axis=1)\n",
    "dfcombined"
   ]
  },
  {
   "cell_type": "code",
   "execution_count": null,
   "id": "liberal-watch",
   "metadata": {
    "ExecuteTime": {
     "end_time": "2022-10-18T10:09:58.610307Z",
     "start_time": "2022-10-18T10:09:58.477Z"
    }
   },
   "outputs": [],
   "source": [
    "def getFCPerProduit(df_produits, df_perRole):\n",
    "    # Product x US\n",
    "    dfFinal = df_perRole[df_produits[\"Produit\"]].transpose()\n",
    "\n",
    "    # US x Cluster\n",
    "    df_usCluster = df_perRole[dict.fromkeys(dfRoleFeatureSuperF[\"superF\"])]\n",
    "        \n",
    "    \n",
    "    # Product x (US + Cluster)\n",
    "    for newColum in dict.fromkeys(dfRoleFeatureSuperF[\"superF\"]):\n",
    "        dfFinal[newColum] = \"\"\n",
    "            \n",
    "    # For each product\n",
    "    for index, row in df_produits.iterrows():\n",
    "        # Produit\n",
    "        #print(row[\"Produit\"])\n",
    "        #print(len(df_perRole.loc[df_perRole[row[\"Produit\"]] == \"x\"]))\n",
    "        if(len(df_perRole.loc[df_perRole[row[\"Produit\"]] == \"x\"]) > 0):\n",
    "            #print(df_perRole.loc[df_perRole[row[\"Produit\"]] == \"x\"])\n",
    "            \n",
    "#            df_perRole.loc[df_perRole[row[\"Produit\"]] == \"x\"].to_csv(\"CSVs/ctxF_\" + \"ProductUSCluster\" + \".csv\")\n",
    "        \n",
    "            # For each cluster\n",
    "            for cluster in df_perRole[dict.fromkeys(dfRoleFeatureSuperF[\"superF\"])]:\n",
    "                print(cluster)\n",
    "            \n",
    "def getDFProductUS(df_produits, df_perRole):\n",
    "    # Product x US\n",
    "    return df_perRole[df_produits[\"Produit\"]].transpose() \n",
    "\n",
    "getDFProductUS(df_produits, dfcombined.loc[dfcombined[\"farmer\"] == \"x\"])\n",
    "\n",
    "def getdfProductCluster(df_produits, df_perRole):\n",
    "    # Product x US\n",
    "    return df_perRole[df_produits[\"Produit\"]].transpose() \n"
   ]
  },
  {
   "cell_type": "code",
   "execution_count": null,
   "id": "alleged-pollution",
   "metadata": {
    "ExecuteTime": {
     "end_time": "2022-10-18T10:09:58.611737Z",
     "start_time": "2022-10-18T10:09:58.481Z"
    },
    "scrolled": true
   },
   "outputs": [],
   "source": [
    "for role in list(dict.fromkeys(dfRoleFeatureSuperF[\"Role\"])):\n",
    "    print(\"\\n\",role, len(dfcombined.loc[dfcombined[role] == \"x\"]))\n",
    "    getFCPerProduit(df_produits, dfcombined.loc[dfcombined[role] == \"x\"])"
   ]
  },
  {
   "cell_type": "code",
   "execution_count": null,
   "id": "continuing-conversation",
   "metadata": {
    "ExecuteTime": {
     "end_time": "2022-10-18T10:09:58.612977Z",
     "start_time": "2022-10-18T10:09:58.483Z"
    },
    "scrolled": true
   },
   "outputs": [],
   "source": [
    "\n",
    "getDFProductUS(df_produits, dfcombined.loc[dfcombined[\"farmer\"] == \"x\"])"
   ]
  }
 ],
 "metadata": {
  "kernelspec": {
   "display_name": "Python 3",
   "language": "python",
   "name": "python3"
  },
  "language_info": {
   "codemirror_mode": {
    "name": "ipython",
    "version": 3
   },
   "file_extension": ".py",
   "mimetype": "text/x-python",
   "name": "python",
   "nbconvert_exporter": "python",
   "pygments_lexer": "ipython3",
   "version": "3.8.10"
  },
  "toc": {
   "base_numbering": 1,
   "nav_menu": {},
   "number_sections": true,
   "sideBar": true,
   "skip_h1_title": false,
   "title_cell": "Table of Contents",
   "title_sidebar": "Contents",
   "toc_cell": false,
   "toc_position": {
    "height": "calc(100% - 180px)",
    "left": "10px",
    "top": "150px",
    "width": "165px"
   },
   "toc_section_display": true,
   "toc_window_display": true
  }
 },
 "nbformat": 4,
 "nbformat_minor": 5
}
